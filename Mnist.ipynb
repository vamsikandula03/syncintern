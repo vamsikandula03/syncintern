{
  "nbformat": 4,
  "nbformat_minor": 0,
  "metadata": {
    "colab": {
      "provenance": []
    },
    "kernelspec": {
      "name": "python3",
      "display_name": "Python 3"
    },
    "language_info": {
      "name": "python"
    }
  },
  "cells": [
    {
      "cell_type": "code",
      "source": [
        "import pandas as pd\n",
        "import numpy as np\n",
        "import matplotlib.pyplot as plt\n",
        "%matplotlib inline"
      ],
      "metadata": {
        "id": "zmx1Qskm8Ct_"
      },
      "execution_count": 3,
      "outputs": []
    },
    {
      "cell_type": "code",
      "source": [
        "dataset=pd.read_csv(\"train.csv\")"
      ],
      "metadata": {
        "id": "tfH497eE8w91"
      },
      "execution_count": 4,
      "outputs": []
    },
    {
      "cell_type": "code",
      "source": [
        "ytrain=dataset[\"label\"]\n",
        "xtrain=dataset.drop(\"label\",axis=1)"
      ],
      "metadata": {
        "id": "DoRyzBwo9CUR"
      },
      "execution_count": 5,
      "outputs": []
    },
    {
      "cell_type": "code",
      "source": [
        "print(ytrain.shape,xtrain.shape)"
      ],
      "metadata": {
        "colab": {
          "base_uri": "https://localhost:8080/"
        },
        "id": "8cOjF9Gl9Osm",
        "outputId": "fcc66075-8928-4723-fc76-d3fe1b40351e"
      },
      "execution_count": 6,
      "outputs": [
        {
          "output_type": "stream",
          "name": "stdout",
          "text": [
            "(42000,) (42000, 784)\n"
          ]
        }
      ]
    },
    {
      "cell_type": "code",
      "source": [
        "ytrain.value_counts()"
      ],
      "metadata": {
        "colab": {
          "base_uri": "https://localhost:8080/"
        },
        "id": "M08Np2Jt9Rct",
        "outputId": "59909ddf-0c85-4dfb-e5ed-015a2774728c"
      },
      "execution_count": 7,
      "outputs": [
        {
          "output_type": "execute_result",
          "data": {
            "text/plain": [
              "1    4684\n",
              "7    4401\n",
              "3    4351\n",
              "9    4188\n",
              "2    4177\n",
              "6    4137\n",
              "0    4132\n",
              "4    4072\n",
              "8    4063\n",
              "5    3795\n",
              "Name: label, dtype: int64"
            ]
          },
          "metadata": {},
          "execution_count": 7
        }
      ]
    },
    {
      "cell_type": "code",
      "source": [
        "xtrain=xtrain/255.0\n"
      ],
      "metadata": {
        "id": "Cj5QXhCy9Y0v"
      },
      "execution_count": 8,
      "outputs": []
    },
    {
      "cell_type": "code",
      "source": [
        "xtrain=xtrain.values.reshape(-1,28,28,1)"
      ],
      "metadata": {
        "id": "HduDCzJ09l4U"
      },
      "execution_count": 9,
      "outputs": []
    },
    {
      "cell_type": "code",
      "source": [
        "from keras.utils.np_utils import to_categorical\n",
        "ytrain=to_categorical(ytrain,num_classes=10)"
      ],
      "metadata": {
        "id": "FcQDzAM59sX-"
      },
      "execution_count": 10,
      "outputs": []
    },
    {
      "cell_type": "code",
      "source": [
        "from sklearn.model_selection import  train_test_split\n"
      ],
      "metadata": {
        "id": "u2x-mhDB-Gio"
      },
      "execution_count": 11,
      "outputs": []
    },
    {
      "cell_type": "code",
      "source": [
        "xtrain,xval,ytrain,yval=train_test_split(xtrain,ytrain,random_state=101,train_size=0.75)"
      ],
      "metadata": {
        "id": "kR2T3FMG-O8O"
      },
      "execution_count": 12,
      "outputs": []
    },
    {
      "cell_type": "code",
      "source": [
        "plt.imshow(xtrain[3])"
      ],
      "metadata": {
        "colab": {
          "base_uri": "https://localhost:8080/",
          "height": 447
        },
        "id": "J2vayIOH-frq",
        "outputId": "0b19b938-63ac-46cb-fe1b-96dbbb1c6ba2"
      },
      "execution_count": 13,
      "outputs": [
        {
          "output_type": "execute_result",
          "data": {
            "text/plain": [
              "<matplotlib.image.AxesImage at 0x7c704d65f550>"
            ]
          },
          "metadata": {},
          "execution_count": 13
        },
        {
          "output_type": "display_data",
          "data": {
            "text/plain": [
              "<Figure size 640x480 with 1 Axes>"
            ],
            "image/png": "[encoded data removed]"
          },
          "metadata": {}
        }
      ]
    },
    {
      "cell_type": "code",
      "source": [
        "xtrain.shape"
      ],
      "metadata": {
        "colab": {
          "base_uri": "https://localhost:8080/"
        },
        "id": "XTqFwNqp-zoY",
        "outputId": "e45185c9-47aa-49ff-8b88-29d76db1a9bc"
      },
      "execution_count": 14,
      "outputs": [
        {
          "output_type": "execute_result",
          "data": {
            "text/plain": [
              "(31500, 28, 28, 1)"
            ]
          },
          "metadata": {},
          "execution_count": 14
        }
      ]
    },
    {
      "cell_type": "code",
      "source": [
        "ytrain.shape"
      ],
      "metadata": {
        "colab": {
          "base_uri": "https://localhost:8080/"
        },
        "id": "D5YDwr51_IzB",
        "outputId": "c9fe147b-22f2-4a6e-beab-d2f87a5a3a69"
      },
      "execution_count": 15,
      "outputs": [
        {
          "output_type": "execute_result",
          "data": {
            "text/plain": [
              "(31500, 10)"
            ]
          },
          "metadata": {},
          "execution_count": 15
        }
      ]
    },
    {
      "cell_type": "code",
      "source": [
        "import keras"
      ],
      "metadata": {
        "id": "Nyw_CkBo_ny8"
      },
      "execution_count": 16,
      "outputs": []
    },
    {
      "cell_type": "code",
      "source": [
        "import tensorflow as ts"
      ],
      "metadata": {
        "id": "b2475kOe_9qC"
      },
      "execution_count": 17,
      "outputs": []
    },
    {
      "cell_type": "code",
      "source": [
        "model=keras.models.Sequential()"
      ],
      "metadata": {
        "id": "6y-ajxwH-nm6"
      },
      "execution_count": 18,
      "outputs": []
    },
    {
      "cell_type": "code",
      "source": [
        "model.add(keras.layers.Flatten(input_shape=[28,28]))"
      ],
      "metadata": {
        "id": "lHKjr23u_NCo"
      },
      "execution_count": 19,
      "outputs": []
    },
    {
      "cell_type": "code",
      "source": [
        "model.add(keras.layers.Dense(80,activation=\"relu\"))\n",
        "model.add(keras.layers.Dense(60,activation=\"relu\"))\n",
        "model.add(keras.layers.Dense(40,activation=\"relu\"))\n",
        "\n",
        "model.add(keras.layers.Dense(10,activation=\"softmax\"))"
      ],
      "metadata": {
        "id": "VTm9vMslAAJI"
      },
      "execution_count": 20,
      "outputs": []
    },
    {
      "cell_type": "code",
      "source": [
        "model.layers"
      ],
      "metadata": {
        "colab": {
          "base_uri": "https://localhost:8080/"
        },
        "id": "cYKOkKWTAMNE",
        "outputId": "7f0868bc-a3a4-48ea-b876-725247a212a2"
      },
      "execution_count": 21,
      "outputs": [
        {
          "output_type": "execute_result",
          "data": {
            "text/plain": [
              "[<keras.layers.reshaping.flatten.Flatten at 0x7c70ad1d5ba0>,\n",
              " <keras.layers.core.dense.Dense at 0x7c70ad1d6590>,\n",
              " <keras.layers.core.dense.Dense at 0x7c70ad1d7070>,\n",
              " <keras.layers.core.dense.Dense at 0x7c70ac0d04f0>,\n",
              " <keras.layers.core.dense.Dense at 0x7c70ac0d16c0>]"
            ]
          },
          "metadata": {},
          "execution_count": 21
        }
      ]
    },
    {
      "cell_type": "code",
      "source": [
        "model.compile(loss=\"categorical_crossentropy\",optimizer=\"sgd\",metrics=[\"accuracy\"])"
      ],
      "metadata": {
        "id": "GPxCIqAeAN3R"
      },
      "execution_count": 22,
      "outputs": []
    },
    {
      "cell_type": "code",
      "source": [
        "history=model.fit(xtrain,ytrain,epochs=30,validation_data=(xval,yval))"
      ],
      "metadata": {
        "colab": {
          "base_uri": "https://localhost:8080/"
        },
        "id": "lvyNyt31Ahmr",
        "outputId": "7faaa65a-fc16-49df-cd02-d1d82542cf7a"
      },
      "execution_count": 23,
      "outputs": [
        {
          "output_type": "stream",
          "name": "stdout",
          "text": [
            "Epoch 1/30\n",
            "985/985 [==============================] - 5s 5ms/step - loss: 0.9824 - accuracy: 0.7203 - val_loss: 0.4204 - val_accuracy: 0.8820\n",
            "Epoch 2/30\n",
            "985/985 [==============================] - 4s 4ms/step - loss: 0.3597 - accuracy: 0.8964 - val_loss: 0.3046 - val_accuracy: 0.9120\n",
            "Epoch 3/30\n",
            "985/985 [==============================] - 3s 3ms/step - loss: 0.2870 - accuracy: 0.9155 - val_loss: 0.2715 - val_accuracy: 0.9231\n",
            "Epoch 4/30\n",
            "985/985 [==============================] - 3s 3ms/step - loss: 0.2479 - accuracy: 0.9274 - val_loss: 0.2402 - val_accuracy: 0.9269\n",
            "Epoch 5/30\n",
            "985/985 [==============================] - 4s 4ms/step - loss: 0.2182 - accuracy: 0.9356 - val_loss: 0.2193 - val_accuracy: 0.9339\n",
            "Epoch 6/30\n",
            "985/985 [==============================] - 3s 3ms/step - loss: 0.1944 - accuracy: 0.9418 - val_loss: 0.1956 - val_accuracy: 0.9416\n",
            "Epoch 7/30\n",
            "985/985 [==============================] - 3s 3ms/step - loss: 0.1773 - accuracy: 0.9485 - val_loss: 0.1887 - val_accuracy: 0.9430\n",
            "Epoch 8/30\n",
            "985/985 [==============================] - 3s 3ms/step - loss: 0.1609 - accuracy: 0.9524 - val_loss: 0.1727 - val_accuracy: 0.9487\n",
            "Epoch 9/30\n",
            "985/985 [==============================] - 4s 4ms/step - loss: 0.1488 - accuracy: 0.9564 - val_loss: 0.1609 - val_accuracy: 0.9524\n",
            "Epoch 10/30\n",
            "985/985 [==============================] - 3s 3ms/step - loss: 0.1382 - accuracy: 0.9599 - val_loss: 0.1517 - val_accuracy: 0.9558\n",
            "Epoch 11/30\n",
            "985/985 [==============================] - 3s 3ms/step - loss: 0.1265 - accuracy: 0.9629 - val_loss: 0.1516 - val_accuracy: 0.9549\n",
            "Epoch 12/30\n",
            "985/985 [==============================] - 4s 5ms/step - loss: 0.1178 - accuracy: 0.9648 - val_loss: 0.1743 - val_accuracy: 0.9460\n",
            "Epoch 13/30\n",
            "985/985 [==============================] - 3s 3ms/step - loss: 0.1111 - accuracy: 0.9682 - val_loss: 0.1450 - val_accuracy: 0.9569\n",
            "Epoch 14/30\n",
            "985/985 [==============================] - 4s 4ms/step - loss: 0.1040 - accuracy: 0.9696 - val_loss: 0.1459 - val_accuracy: 0.9569\n",
            "Epoch 15/30\n",
            "985/985 [==============================] - 3s 3ms/step - loss: 0.0971 - accuracy: 0.9718 - val_loss: 0.1388 - val_accuracy: 0.9596\n",
            "Epoch 16/30\n",
            "985/985 [==============================] - 4s 4ms/step - loss: 0.0911 - accuracy: 0.9737 - val_loss: 0.1295 - val_accuracy: 0.9608\n",
            "Epoch 17/30\n",
            "985/985 [==============================] - 3s 3ms/step - loss: 0.0856 - accuracy: 0.9742 - val_loss: 0.1267 - val_accuracy: 0.9613\n",
            "Epoch 18/30\n",
            "985/985 [==============================] - 3s 3ms/step - loss: 0.0802 - accuracy: 0.9761 - val_loss: 0.1293 - val_accuracy: 0.9634\n",
            "Epoch 19/30\n",
            "985/985 [==============================] - 4s 4ms/step - loss: 0.0754 - accuracy: 0.9789 - val_loss: 0.1212 - val_accuracy: 0.9645\n",
            "Epoch 20/30\n",
            "985/985 [==============================] - 3s 3ms/step - loss: 0.0714 - accuracy: 0.9803 - val_loss: 0.1227 - val_accuracy: 0.9631\n",
            "Epoch 21/30\n",
            "985/985 [==============================] - 3s 3ms/step - loss: 0.0667 - accuracy: 0.9811 - val_loss: 0.1247 - val_accuracy: 0.9634\n",
            "Epoch 22/30\n",
            "985/985 [==============================] - 3s 3ms/step - loss: 0.0629 - accuracy: 0.9816 - val_loss: 0.1180 - val_accuracy: 0.9649\n",
            "Epoch 23/30\n",
            "985/985 [==============================] - 4s 4ms/step - loss: 0.0598 - accuracy: 0.9828 - val_loss: 0.1174 - val_accuracy: 0.9660\n",
            "Epoch 24/30\n",
            "985/985 [==============================] - 3s 3ms/step - loss: 0.0558 - accuracy: 0.9849 - val_loss: 0.1190 - val_accuracy: 0.9658\n",
            "Epoch 25/30\n",
            "985/985 [==============================] - 3s 3ms/step - loss: 0.0530 - accuracy: 0.9855 - val_loss: 0.1207 - val_accuracy: 0.9665\n",
            "Epoch 26/30\n",
            "985/985 [==============================] - 3s 3ms/step - loss: 0.0504 - accuracy: 0.9853 - val_loss: 0.1182 - val_accuracy: 0.9666\n",
            "Epoch 27/30\n",
            "985/985 [==============================] - 4s 4ms/step - loss: 0.0470 - accuracy: 0.9872 - val_loss: 0.1227 - val_accuracy: 0.9650\n",
            "Epoch 28/30\n",
            "985/985 [==============================] - 3s 3ms/step - loss: 0.0446 - accuracy: 0.9879 - val_loss: 0.1217 - val_accuracy: 0.9633\n",
            "Epoch 29/30\n",
            "985/985 [==============================] - 3s 3ms/step - loss: 0.0417 - accuracy: 0.9889 - val_loss: 0.1356 - val_accuracy: 0.9630\n",
            "Epoch 30/30\n",
            "985/985 [==============================] - 4s 4ms/step - loss: 0.0397 - accuracy: 0.9894 - val_loss: 0.1163 - val_accuracy: 0.9675\n"
          ]
        }
      ]
    },
    {
      "cell_type": "code",
      "source": [
        "pd.DataFrame(history.history).plot()"
      ],
      "metadata": {
        "colab": {
          "base_uri": "https://localhost:8080/",
          "height": 447
        },
        "id": "O0gBBvvIAuEm",
        "outputId": "fc07ffc4-f0c3-4796-da0e-25118f3b8fcb"
      },
      "execution_count": 24,
      "outputs": [
        {
          "output_type": "execute_result",
          "data": {
            "text/plain": [
              "<Axes: >"
            ]
          },
          "metadata": {},
          "execution_count": 24
        },
        {
          "output_type": "display_data",
          "data": {
            "text/plain": [
              "<Figure size 640x480 with 1 Axes>"
            ],
            "image/png": "[encoded data removed]"
          },
          "metadata": {}
        }
      ]
    },
    {
      "cell_type": "code",
      "source": [
        "ypred=model.predict(xval)"
      ],
      "metadata": {
        "colab": {
          "base_uri": "https://localhost:8080/"
        },
        "id": "VVqOQcq1Etnr",
        "outputId": "53a500b9-3595-4311-a7c5-17f8d633f941"
      },
      "execution_count": 25,
      "outputs": [
        {
          "output_type": "stream",
          "name": "stdout",
          "text": [
            "329/329 [==============================] - 1s 2ms/step\n"
          ]
        }
      ]
    },
    {
      "cell_type": "code",
      "source": [
        "ypredclass=np.argmax(ypred,axis=1)"
      ],
      "metadata": {
        "id": "TVh_FpZPFBDW"
      },
      "execution_count": 26,
      "outputs": []
    },
    {
      "cell_type": "code",
      "source": [
        "ytrue=np.argmax(yval,axis=1)"
      ],
      "metadata": {
        "id": "GqoDBbCgFd6R"
      },
      "execution_count": 27,
      "outputs": []
    },
    {
      "cell_type": "code",
      "source": [
        "from sklearn.metrics import confusion_matrix"
      ],
      "metadata": {
        "id": "S5IIm39RFjYm"
      },
      "execution_count": 28,
      "outputs": []
    },
    {
      "cell_type": "code",
      "source": [
        "print(confusion_matrix(ytrue,ypredclass))"
      ],
      "metadata": {
        "colab": {
          "base_uri": "https://localhost:8080/"
        },
        "id": "EcQEgDd-FngC",
        "outputId": "33fb93ca-0bc5-4166-ecfd-2934a9a02d77"
      },
      "execution_count": 29,
      "outputs": [
        {
          "output_type": "stream",
          "name": "stdout",
          "text": [
            "[[ 986    0    1    2    1    3    6    0    6    0]\n",
            " [   0 1129    9    4    2    0    1    4    5    0]\n",
            " [   5    4 1019    7    3    2    3   10    6    0]\n",
            " [   1    1   14 1029    0   13    0    5   14    5]\n",
            " [   0    1    2    0 1003    1    6    1    2   12]\n",
            " [   6    1    1   11    2  912    8    1    7    3]\n",
            " [   1    4    3    0    2    6 1005    0    2    0]\n",
            " [   2    0    5    4    4    1    1 1069    0    6]\n",
            " [   1    4    2    9    5    5    3    1  979    1]\n",
            " [   4    2    1   11   15    5    0   17   12 1028]]\n"
          ]
        }
      ]
    },
    {
      "cell_type": "code",
      "source": [
        "v=pd.DataFrame(ytrue)"
      ],
      "metadata": {
        "id": "hM65HrJuFsRh"
      },
      "execution_count": 30,
      "outputs": []
    },
    {
      "cell_type": "code",
      "source": [
        "v.value_counts()"
      ],
      "metadata": {
        "colab": {
          "base_uri": "https://localhost:8080/"
        },
        "id": "ZZz_gQuXGkoA",
        "outputId": "ca8379b2-7bc6-4688-fda5-5d627bc659e7"
      },
      "execution_count": 31,
      "outputs": [
        {
          "output_type": "execute_result",
          "data": {
            "text/plain": [
              "1    1154\n",
              "9    1095\n",
              "7    1092\n",
              "3    1082\n",
              "2    1059\n",
              "4    1028\n",
              "6    1023\n",
              "8    1010\n",
              "0    1005\n",
              "5     952\n",
              "dtype: int64"
            ]
          },
          "metadata": {},
          "execution_count": 31
        }
      ]
    },
    {
      "cell_type": "code",
      "source": [],
      "metadata": {
        "id": "2ZccP0tcGmQi"
      },
      "execution_count": 32,
      "outputs": []
    },
    {
      "cell_type": "code",
      "source": [],
      "metadata": {
        "id": "AiJIiSAnnkg0"
      },
      "execution_count": 32,
      "outputs": []
    }
  ]
}